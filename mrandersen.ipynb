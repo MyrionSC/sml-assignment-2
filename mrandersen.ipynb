{
 "cells": [
  {
   "cell_type": "raw",
   "metadata": {},
   "source": [
    "# COMP90051 Project 2"
   ]
  },
  {
   "cell_type": "code",
   "execution_count": 1,
   "metadata": {},
   "outputs": [],
   "source": [
    "# Do not edit. These are the only imports permitted.\n",
    "%matplotlib inline\n",
    "import numpy as np\n",
    "from numpy.linalg import inv\n",
    "import matplotlib.pyplot as plt\n",
    "from abc import ABC, abstractmethod"
   ]
  },
  {
   "cell_type": "code",
   "execution_count": 2,
   "metadata": {},
   "outputs": [],
   "source": [
    "## 1. Implement ε-Greedy and UCB"
   ]
  },
  {
   "cell_type": "code",
   "execution_count": 3,
   "metadata": {},
   "outputs": [],
   "source": [
    "class MAB(ABC):\n",
    "    \"\"\"\n",
    "    Abstract class that represents a multi-armed bandit (MAB)\n",
    "    \"\"\"\n",
    "    \n",
    "    @abstractmethod\n",
    "    def play(self, tround, context):\n",
    "        \"\"\"\n",
    "        Play a round\n",
    "        \n",
    "        Arguments\n",
    "        =========\n",
    "        tround : int\n",
    "            positive integer identifying the round\n",
    "        \n",
    "        context : 1D float array, shape (self.ndims * self.narms), optional\n",
    "            context given to the arms\n",
    "        \n",
    "        Returns\n",
    "        =======\n",
    "        arm : int\n",
    "            the positive integer arm id for this round\n",
    "        \"\"\"\n",
    "    \n",
    "    @abstractmethod\n",
    "    def update(self, arm, reward, context):\n",
    "        \"\"\"\n",
    "        Updates the internal state of the MAB after a play\n",
    "        \n",
    "        Arguments\n",
    "        =========\n",
    "        arm : int\n",
    "            a positive integer arm id in {1, ..., self.narms}\n",
    "        \n",
    "        reward : float\n",
    "            reward received from arm\n",
    "        \n",
    "        context : 1D float array, shape (self.ndims * self.narms), optional\n",
    "            context given to arms\n",
    "        \"\"\""
   ]
  },
  {
   "cell_type": "code",
   "execution_count": 4,
   "metadata": {},
   "outputs": [],
   "source": [
    "class EpsGreedy(MAB):\n",
    "    \"\"\"\n",
    "    Epsilon-Greedy multi-armed bandit\n",
    "\n",
    "    Arguments\n",
    "    =========\n",
    "    narms : int\n",
    "        number of arms\n",
    "\n",
    "    epsilon : float\n",
    "        explore probability\n",
    "\n",
    "    Q0 : float, optional\n",
    "        initial value for the arms\n",
    "    \"\"\"\n",
    "    \n",
    "    def __init__(self, narms, epsilon, Q0=np.inf):\n",
    "        self.narms = narms\n",
    "        self.epsilon = epsilon\n",
    "        self.Q0 = Q0\n",
    "        self.pullsNum = np.zeros(narms)\n",
    "        self.values = np.full(narms, Q0)\n",
    "        \n",
    "    def play(self, tround, context=None):\n",
    "        # tround not used in this implementation of MAB\n",
    "        rand = np.random.random()\n",
    "        # if rand < epsilon, pick random arm (explore), otherwise pick best arm (exploit) (with random tiebreak)\n",
    "        if rand < self.epsilon:\n",
    "            return np.random.randint(self.narms)\n",
    "        else:\n",
    "            maxValue = max(self.values)\n",
    "            bestArms = [i for i, value in enumerate(self.values) if value == maxValue]\n",
    "            return np.random.choice(bestArms)\n",
    "        \n",
    "    def update(self, arm, reward, context=None):\n",
    "        if self.values[arm] == self.Q0:\n",
    "            self.values[arm] = reward\n",
    "        else:\n",
    "            value = (self.values[arm] * self.pullsNum[arm] + reward) / (self.pullsNum[arm] + 1)\n",
    "            self.values[arm] = value\n",
    "        self.pullsNum[arm] += 1\n",
    "    "
   ]
  },
  {
   "cell_type": "code",
   "execution_count": 5,
   "metadata": {},
   "outputs": [],
   "source": [
    "class BernoulliArm:\n",
    "    def __init__(self):\n",
    "        self.p = np.random.random()\n",
    "    \n",
    "    def pull(self):\n",
    "        return int(np.random.random() < self.p)"
   ]
  },
  {
   "cell_type": "code",
   "execution_count": 6,
   "metadata": {},
   "outputs": [
    {
     "data": {
      "text/plain": [
       "[0.5958247637816033,\n",
       " 0.49821203694769145,\n",
       " 0.4698340777536778,\n",
       " 0.13654880847204842,\n",
       " 0.30010162192872747,\n",
       " 0.135649267845232,\n",
       " 0.07962893111805402,\n",
       " 0.5425442355292646,\n",
       " 0.835203872881285,\n",
       " 0.6361306124057975]"
      ]
     },
     "execution_count": 6,
     "metadata": {},
     "output_type": "execute_result"
    }
   ],
   "source": [
    "bernoulliArms = [BernoulliArm() for i in range(10)]\n",
    "[a.p for a in bernoulliArms]"
   ]
  },
  {
   "cell_type": "code",
   "execution_count": 7,
   "metadata": {},
   "outputs": [
    {
     "name": "stdout",
     "output_type": "stream",
     "text": [
      "accumulated_rewards 222\n",
      "max reward possible 250.5611618643855\n",
      "regret 28.561161864385497\n"
     ]
    }
   ],
   "source": [
    "epsGreedy = EpsGreedy(10, 0.2)\n",
    "accumulated_rewards = 0\n",
    "pulls_num = 0\n",
    "running_avg_rewards = [0] * 300\n",
    "# print(epsGreedy.values)\n",
    "for i in range(0, 300):\n",
    "    arm = epsGreedy.play(None)\n",
    "    reward = bernoulliArms[arm].pull()\n",
    "    accumulated_rewards += reward\n",
    "    epsGreedy.update(arm, reward)\n",
    "    \n",
    "    pulls_num += 1\n",
    "    running_avg_rewards[i] = accumulated_rewards / pulls_num\n",
    "    \n",
    "#     if (i % 100 == 0):\n",
    "#         print(\"-\")\n",
    "#         print(accumulated_rewards)\n",
    "#         print(epsGreedy.values)\n",
    "#         print(\"-\")\n",
    "\n",
    "print(\"accumulated_rewards \" + str(accumulated_rewards))\n",
    "# print(epsGreedy.values)\n",
    "print(\"max reward possible \" + str(max([b.p for b in bernoulliArms])*300))\n",
    "print(\"regret \" + str(max([b.p for b in bernoulliArms]) * 300 - accumulated_rewards))"
   ]
  },
  {
   "cell_type": "code",
   "execution_count": 8,
   "metadata": {},
   "outputs": [
    {
     "data": {
      "image/png": "[encoded data removed]",
      "text/plain": [
       "<Figure size 432x288 with 1 Axes>"
      ]
     },
     "metadata": {},
     "output_type": "display_data"
    }
   ],
   "source": [
    "plt.plot(running_avg_rewards)\n",
    "plt.ylabel(\"Average Rewards\")\n",
    "plt.show()"
   ]
  },
  {
   "cell_type": "code",
   "execution_count": 23,
   "metadata": {},
   "outputs": [],
   "source": [
    "class UCB(MAB):\n",
    "    \"\"\"\n",
    "    Upper Confidence Bound (UCB) multi-armed bandit\n",
    "\n",
    "    Arguments\n",
    "    =========\n",
    "    narms : int\n",
    "        number of arms\n",
    "\n",
    "    rho : float\n",
    "        positive real explore-exploit parameter\n",
    "\n",
    "    Q0 : float, optional\n",
    "        initial value for the arms\n",
    "    \"\"\"\n",
    "    \n",
    "    def __init__(self, narms, rho, Q0=np.inf):\n",
    "        self.narms = narms\n",
    "        self.rho = rho\n",
    "        self.Q0 = Q0\n",
    "        self.pullsNum = np.zeros(narms)\n",
    "        self.values = np.full(narms, Q0)\n",
    "    \n",
    "    def play(self, tround, context=None):\n",
    "        # compute the sum of average reward and confidence interval for each arm\n",
    "        estimatedValues = [0] * self.narms\n",
    "        for i in range(self.narms):\n",
    "            avg_arm_value = self.values[i]\n",
    "            if avg_arm_value == self.Q0:\n",
    "                estimatedValues[i] = self.Q0\n",
    "            else:\n",
    "                confidence_interval = np.sqrt((self.rho * np.log(tround)) / self.pullsNum[i])\n",
    "                estimatedValues[i] = avg_arm_value + confidence_interval\n",
    "        \n",
    "        # choose randomly between arms with max sum of avg reward and confidence interval\n",
    "        maxValue = max(estimatedValues)\n",
    "        bestArms = [i for i, value in enumerate(estimatedValues) if value == maxValue]\n",
    "        return np.random.choice(bestArms)\n",
    "        \n",
    "    def update(self, arm, reward, context=None):\n",
    "        if self.values[arm] == self.Q0:\n",
    "            self.values[arm] = reward\n",
    "        else:\n",
    "            value = (self.values[arm] * self.pullsNum[arm] + reward) / (self.pullsNum[arm] + 1)\n",
    "            self.values[arm] = value\n",
    "        self.pullsNum[arm] += 1\n",
    "        \n",
    "    "
   ]
  },
  {
   "cell_type": "code",
   "execution_count": 37,
   "metadata": {},
   "outputs": [
    {
     "data": {
      "text/plain": [
       "[0.30285063868800766,\n",
       " 0.5489417720476272,\n",
       " 0.4945385525966577,\n",
       " 0.4891175281368223,\n",
       " 0.9121946616676647,\n",
       " 0.2111246016416537,\n",
       " 0.9436084678448871,\n",
       " 0.578253605163825,\n",
       " 0.6109595109577761,\n",
       " 0.4254153688254443]"
      ]
     },
     "execution_count": 37,
     "metadata": {},
     "output_type": "execute_result"
    }
   ],
   "source": [
    "bernoulliArms = [BernoulliArm() for i in range(10)]\n",
    "[a.p for a in bernoulliArms]"
   ]
  },
  {
   "cell_type": "code",
   "execution_count": 48,
   "metadata": {},
   "outputs": [
    {
     "name": "stdout",
     "output_type": "stream",
     "text": [
      "accumulated_rewards 1879\n",
      "[0.         0.5        0.66666667 0.66666667 0.925      0.\n",
      " 0.94341564 0.66666667 0.5        0.        ]\n",
      "max reward possible 1887.2169356897741\n",
      "regret 8.216935689774118\n"
     ]
    }
   ],
   "source": [
    "mab = UCB(10, 0.0)\n",
    "accumulated_rewards = 0\n",
    "# print(epsGreedy.values)\n",
    "for i in range(0, 2000):\n",
    "    arm = mab.play(i)\n",
    "    reward = bernoulliArms[arm].pull()\n",
    "    accumulated_rewards += reward\n",
    "    mab.update(arm, reward)\n",
    "\n",
    "#     if (i % 100 == 0):\n",
    "#         print(\"-\")\n",
    "#         print(accumulated_rewards)\n",
    "#         print(epsGreedy.values)\n",
    "#         print(\"-\")\n",
    "\n",
    "print(\"accumulated_rewards \" + str(accumulated_rewards))\n",
    "print(mab.values)\n",
    "maxReward = max([b.p for b in bernoulliArms])*2000\n",
    "print(\"max reward possible \" + str(maxReward))\n",
    "print(\"regret \" + str(maxReward - accumulated_rewards))\n",
    "\n",
    "#[a.p for a in bernoulliArms]"
   ]
  },
  {
   "cell_type": "markdown",
   "metadata": {},
   "source": [
    "## 2. Off-Policy Evaluation"
   ]
  },
  {
   "cell_type": "code",
   "execution_count": 12,
   "metadata": {},
   "outputs": [],
   "source": [
    "def offlineEvaluate(mab, arms, rewards, contexts, nrounds=None):\n",
    "    \"\"\"\n",
    "    Offline evaluation of a multi-armed bandit\n",
    "    \n",
    "    Arguments\n",
    "    =========\n",
    "    mab : instance of MAB\n",
    "    \n",
    "    arms : 1D int array, shape (nevents,) \n",
    "        integer arm id for each event\n",
    "    \n",
    "    rewards : 1D float array, shape (nevents,)\n",
    "        reward received for each event\n",
    "    \n",
    "    contexts : 2D float array, shape (nevents, mab.narms*nfeatures)\n",
    "        contexts presented to the arms (stacked horizontally) \n",
    "        for each event.\n",
    "        \n",
    "    nrounds : int, optional\n",
    "        number of matching events to evaluate `mab` on.\n",
    "    \n",
    "    Returns\n",
    "    =======\n",
    "    out : 1D float array\n",
    "        rewards for the matching events\n",
    "    \"\"\"\n",
    "    "
   ]
  },
  {
   "cell_type": "code",
   "execution_count": 13,
   "metadata": {},
   "outputs": [
    {
     "ename": "NameError",
     "evalue": "name 'arms' is not defined",
     "output_type": "error",
     "traceback": [
      "\u001b[0;31m---------------------------------------------------------------------------\u001b[0m",
      "\u001b[0;31mNameError\u001b[0m                                 Traceback (most recent call last)",
      "\u001b[0;32m<ipython-input-13-c7efc561e521>\u001b[0m in \u001b[0;36m<module>\u001b[0;34m()\u001b[0m\n\u001b[1;32m      1\u001b[0m \u001b[0mmab\u001b[0m \u001b[0;34m=\u001b[0m \u001b[0mEpsGreedy\u001b[0m\u001b[0;34m(\u001b[0m\u001b[0;36m10\u001b[0m\u001b[0;34m,\u001b[0m \u001b[0;36m0.05\u001b[0m\u001b[0;34m)\u001b[0m\u001b[0;34m\u001b[0m\u001b[0m\n\u001b[0;32m----> 2\u001b[0;31m \u001b[0mresults_EpsGreedy\u001b[0m \u001b[0;34m=\u001b[0m \u001b[0mofflineEvaluate\u001b[0m\u001b[0;34m(\u001b[0m\u001b[0mmab\u001b[0m\u001b[0;34m,\u001b[0m \u001b[0marms\u001b[0m\u001b[0;34m,\u001b[0m \u001b[0mrewards\u001b[0m\u001b[0;34m,\u001b[0m \u001b[0mcontexts\u001b[0m\u001b[0;34m,\u001b[0m \u001b[0;36m800\u001b[0m\u001b[0;34m)\u001b[0m\u001b[0;34m\u001b[0m\u001b[0m\n\u001b[0m\u001b[1;32m      3\u001b[0m \u001b[0mprint\u001b[0m\u001b[0;34m(\u001b[0m\u001b[0;34m'EpsGreedy average reward'\u001b[0m\u001b[0;34m,\u001b[0m \u001b[0mnp\u001b[0m\u001b[0;34m.\u001b[0m\u001b[0mmean\u001b[0m\u001b[0;34m(\u001b[0m\u001b[0mresults_EpsGreedy\u001b[0m\u001b[0;34m)\u001b[0m\u001b[0;34m)\u001b[0m\u001b[0;34m\u001b[0m\u001b[0m\n",
      "\u001b[0;31mNameError\u001b[0m: name 'arms' is not defined"
     ]
    }
   ],
   "source": [
    "mab = EpsGreedy(10, 0.05)\n",
    "results_EpsGreedy = offlineEvaluate(mab, arms, rewards, contexts, 800)\n",
    "print('EpsGreedy average reward', np.mean(results_EpsGreedy))"
   ]
  },
  {
   "cell_type": "code",
   "execution_count": null,
   "metadata": {},
   "outputs": [],
   "source": []
  },
  {
   "cell_type": "code",
   "execution_count": null,
   "metadata": {},
   "outputs": [],
   "source": [
    "mab = UCB(10, 1.0)\n",
    "results_UCB = offlineEvaluate(mab, arms, rewards, contexts, 800)\n",
    "print('UCB average reward', np.mean(results_UCB))"
   ]
  },
  {
   "cell_type": "code",
   "execution_count": null,
   "metadata": {},
   "outputs": [],
   "source": [
    "data = np.loadtxt(\"dataset.txt\")\n",
    "arm_id = data[:,0]\n",
    "reward = data[:,1]\n",
    "context = data[:,2:]"
   ]
  },
  {
   "cell_type": "markdown",
   "metadata": {},
   "source": [
    "## 3. Contextual Bandits"
   ]
  },
  {
   "cell_type": "code",
   "execution_count": null,
   "metadata": {},
   "outputs": [],
   "source": [
    "class LinUCB(MAB):\n",
    "    \"\"\"\n",
    "    Contextual multi-armed bandit (LinUCB)\n",
    "\n",
    "    Arguments\n",
    "    =========\n",
    "    narms : int\n",
    "        number of arms\n",
    "\n",
    "    ndims : int\n",
    "        number of dimensions for each arm's context\n",
    "\n",
    "    alpha : float\n",
    "        positive real explore-exploit parameter\n",
    "    \"\"\"\n",
    "    \n",
    "    def __init__(self, narms, ndims, alpha):\n",
    "        \n",
    "        \n",
    "    def play(self, tround, context):\n",
    "        \n",
    "    \n",
    "    def update(self, arm, reward, context):\n",
    "        \n",
    "    "
   ]
  },
  {
   "cell_type": "code",
   "execution_count": null,
   "metadata": {},
   "outputs": [],
   "source": [
    "mab = LinUCB(10, 10, 1.0)\n",
    "results_LinUCB = offlineEvaluate(mab, arms, rewards, contexts, 800)\n",
    "print('LinUCB average reward', np.mean(results_LinUCB))"
   ]
  },
  {
   "cell_type": "markdown",
   "metadata": {},
   "source": [
    "## 4. Evaluation\n",
    "### 4.A."
   ]
  },
  {
   "cell_type": "code",
   "execution_count": null,
   "metadata": {},
   "outputs": [],
   "source": []
  },
  {
   "cell_type": "markdown",
   "metadata": {},
   "source": [
    "### 4.B."
   ]
  },
  {
   "cell_type": "code",
   "execution_count": null,
   "metadata": {},
   "outputs": [],
   "source": []
  },
  {
   "cell_type": "markdown",
   "metadata": {},
   "source": [
    "## 5. KernelUCB"
   ]
  },
  {
   "cell_type": "code",
   "execution_count": null,
   "metadata": {},
   "outputs": [],
   "source": [
    "# Do not edit. Special import for this section.\n",
    "from sklearn.metrics.pairwise import rbf_kernel"
   ]
  },
  {
   "cell_type": "code",
   "execution_count": null,
   "metadata": {},
   "outputs": [],
   "source": [
    "class KernelUCB(MAB):\n",
    "    \"\"\"\n",
    "    Kernelised contextual multi-armed bandit (Kernelised LinUCB)\n",
    "    \n",
    "    Arguments\n",
    "    =========\n",
    "    narms : int\n",
    "        number of arms\n",
    "\n",
    "    ndims : int\n",
    "        number of dimensions for each arm's context\n",
    "\n",
    "    gamma : float\n",
    "        positive real explore-exploit parameter\n",
    "    \n",
    "    eta : float\n",
    "        positive real explore-exploit parameter\n",
    "    \n",
    "    kern : callable\n",
    "        a kernel function from sklearn.metrics.pairwise\n",
    "    \"\"\"\n",
    "    def __init__(self, narms, ndims, gamma, eta, kern):\n",
    "        \n",
    "    \n",
    "    def play(self, tround, context):\n",
    "        \n",
    "    \n",
    "    def update(self, arm, reward, context):\n",
    "        \n",
    "    "
   ]
  }
 ],
 "metadata": {
  "kernelspec": {
   "display_name": "Python 3",
   "language": "python",
   "name": "python3"
  },
  "language_info": {
   "codemirror_mode": {
    "name": "ipython",
    "version": 3
   },
   "file_extension": ".py",
   "mimetype": "text/x-python",
   "name": "python",
   "nbconvert_exporter": "python",
   "pygments_lexer": "ipython3",
   "version": "3.5.2"
  }
 },
 "nbformat": 4,
 "nbformat_minor": 2
}
