{
 "cells": [
  {
   "cell_type": "raw",
   "metadata": {},
   "source": [
    "# COMP90051 Project 2"
   ]
  },
  {
   "cell_type": "code",
   "execution_count": 1,
   "metadata": {},
   "outputs": [],
   "source": [
    "# Do not edit. These are the only imports permitted.\n",
    "%matplotlib inline\n",
    "import numpy as np\n",
    "from numpy.linalg import inv\n",
    "import matplotlib.pyplot as plt\n",
    "from abc import ABC, abstractmethod"
   ]
  },
  {
   "cell_type": "code",
   "execution_count": 2,
   "metadata": {},
   "outputs": [],
   "source": [
    "## 1. Implement ε-Greedy and UCB"
   ]
  },
  {
   "cell_type": "code",
   "execution_count": 3,
   "metadata": {},
   "outputs": [],
   "source": [
    "class MAB(ABC):\n",
    "    \"\"\"\n",
    "    Abstract class that represents a multi-armed bandit (MAB)\n",
    "    \"\"\"\n",
    "    \n",
    "    @abstractmethod\n",
    "    def play(self, tround, context):\n",
    "        \"\"\"\n",
    "        Play a round\n",
    "        \n",
    "        Arguments\n",
    "        =========\n",
    "        tround : int\n",
    "            positive integer identifying the round\n",
    "        \n",
    "        context : 1D float array, shape (self.ndims * self.narms), optional\n",
    "            context given to the arms\n",
    "        \n",
    "        Returns\n",
    "        =======\n",
    "        arm : int\n",
    "            the positive integer arm id for this round\n",
    "        \"\"\"\n",
    "    \n",
    "    @abstractmethod\n",
    "    def update(self, arm, reward, context):\n",
    "        \"\"\"\n",
    "        Updates the internal state of the MAB after a play\n",
    "        \n",
    "        Arguments\n",
    "        =========\n",
    "        arm : int\n",
    "            a positive integer arm id in {1, ..., self.narms}\n",
    "        \n",
    "        reward : float\n",
    "            reward received from arm\n",
    "        \n",
    "        context : 1D float array, shape (self.ndims * self.narms), optional\n",
    "            context given to arms\n",
    "        \"\"\""
   ]
  },
  {
   "cell_type": "code",
   "execution_count": 4,
   "metadata": {},
   "outputs": [],
   "source": [
    "class EpsGreedy(MAB):\n",
    "    \"\"\"\n",
    "    Epsilon-Greedy multi-armed bandit\n",
    "\n",
    "    Arguments\n",
    "    =========\n",
    "    narms : int\n",
    "        number of arms\n",
    "\n",
    "    epsilon : float\n",
    "        explore probability\n",
    "\n",
    "    Q0 : float, optional\n",
    "        initial value for the arms\n",
    "    \"\"\"\n",
    "    \n",
    "    def __init__(self, narms, epsilon, Q0=np.inf):\n",
    "        self.narms = narms\n",
    "        self.epsilon = epsilon\n",
    "        self.Q0 = Q0\n",
    "        self.pullsNum = np.zeros(narms)\n",
    "        self.values = np.full(narms, Q0)\n",
    "        \n",
    "    def play(self, tround, context=None):\n",
    "        # tround not used in this implementation of MAB\n",
    "        rand = np.random.random()\n",
    "        # if rand < epsilon, pick random arm (explore), otherwise pick best arm (exploit) (with random tiebreak)\n",
    "        if rand < self.epsilon:\n",
    "            return np.random.randint(self.narms)\n",
    "        else:\n",
    "            maxValue = max(self.values)\n",
    "            bestArms = [i for i, value in enumerate(self.values) if value == maxValue]\n",
    "            return np.random.choice(bestArms)\n",
    "        \n",
    "    def update(self, arm, reward, context=None):\n",
    "        if self.values[arm] == self.Q0:\n",
    "            self.values[arm] = reward\n",
    "        else:\n",
    "            value = (self.values[arm] * self.pullsNum[arm] + reward) / (self.pullsNum[arm] + 1)\n",
    "            self.values[arm] = value\n",
    "        self.pullsNum[arm] += 1\n",
    "    "
   ]
  },
  {
   "cell_type": "code",
   "execution_count": 5,
   "metadata": {},
   "outputs": [],
   "source": [
    "class BernoulliArm:\n",
    "    def __init__(self):\n",
    "        self.p = np.random.random()\n",
    "    \n",
    "    def pull(self):\n",
    "        return int(np.random.random() < self.p)"
   ]
  },
  {
   "cell_type": "code",
   "execution_count": 6,
   "metadata": {},
   "outputs": [
    {
     "data": {
      "text/plain": [
       "[0.024720759901472822,\n",
       " 0.992402994515029,\n",
       " 0.07314369305962387,\n",
       " 0.014176883428488884,\n",
       " 0.7831487936728914,\n",
       " 0.4550515167074527,\n",
       " 0.6790586426195484,\n",
       " 0.6260793137619918,\n",
       " 0.8546199225486811,\n",
       " 0.5842458967422974]"
      ]
     },
     "execution_count": 6,
     "metadata": {},
     "output_type": "execute_result"
    }
   ],
   "source": [
    "bernoulliArms = [BernoulliArm() for i in range(10)]\n",
    "[a.p for a in bernoulliArms]"
   ]
  },
  {
   "cell_type": "code",
   "execution_count": 7,
   "metadata": {},
   "outputs": [
    {
     "name": "stdout",
     "output_type": "stream",
     "text": [
      "accumulated_rewards 1889\n",
      "max reward possible 1984.805989030058\n",
      "regret 95.80598903005807\n"
     ]
    }
   ],
   "source": [
    "epsGreedy = EpsGreedy(10, 0.1)\n",
    "accumulated_rewards = 0\n",
    "pulls_num = 0\n",
    "running_avg_rewards = [0] * 2000\n",
    "# print(epsGreedy.values)\n",
    "for i in range(0, 2000):\n",
    "    arm = epsGreedy.play(None)\n",
    "    reward = bernoulliArms[arm].pull()\n",
    "    accumulated_rewards += reward\n",
    "    epsGreedy.update(arm, reward)\n",
    "    \n",
    "    pulls_num += 1\n",
    "    running_avg_rewards[i] = accumulated_rewards / pulls_num\n",
    "    \n",
    "#     if (i % 100 == 0):\n",
    "#         print(\"-\")\n",
    "#         print(accumulated_rewards)\n",
    "#         print(epsGreedy.values)\n",
    "#         print(\"-\")\n",
    "\n",
    "print(\"accumulated_rewards \" + str(accumulated_rewards))\n",
    "# print(epsGreedy.values)\n",
    "print(\"max reward possible \" + str(max([b.p for b in bernoulliArms])*2000))\n",
    "print(\"regret \" + str(max([b.p for b in bernoulliArms]) * 2000 - accumulated_rewards))"
   ]
  },
  {
   "cell_type": "code",
   "execution_count": 8,
   "metadata": {},
   "outputs": [
    {
     "data": {
      "image/png": "[encoded data removed]",
      "text/plain": [
       "<Figure size 432x288 with 1 Axes>"
      ]
     },
     "metadata": {},
     "output_type": "display_data"
    }
   ],
   "source": [
    "plt.plot(running_avg_rewards)\n",
    "plt.ylabel(\"Average Rewards\")\n",
    "plt.show()"
   ]
  },
  {
   "cell_type": "code",
   "execution_count": 9,
   "metadata": {},
   "outputs": [],
   "source": [
    "class UCB(MAB):\n",
    "    \"\"\"\n",
    "    Upper Confidence Bound (UCB) multi-armed bandit\n",
    "\n",
    "    Arguments\n",
    "    =========\n",
    "    narms : int\n",
    "        number of arms\n",
    "\n",
    "    rho : float\n",
    "        positive real explore-exploit parameter\n",
    "\n",
    "    Q0 : float, optional\n",
    "        initial value for the arms\n",
    "    \"\"\"\n",
    "    \n",
    "    def __init__(self, narms, rho, Q0=np.inf):\n",
    "        self.narms = narms\n",
    "        self.rho = rho\n",
    "        self.Q0 = Q0\n",
    "        self.pullsNum = np.zeros(narms)\n",
    "        self.values = np.full(narms, Q0)\n",
    "    \n",
    "    def play(self, tround, context=None):\n",
    "        # compute the sum of average reward and confidence interval for each arm\n",
    "        estimatedValues = [0] * self.narms\n",
    "        for i in range(self.narms):\n",
    "            avg_arm_value = self.values[i]\n",
    "            if avg_arm_value == self.Q0:\n",
    "                estimatedValues[i] = self.Q0\n",
    "            else:\n",
    "                confidence_interval = np.sqrt((self.rho * np.log(tround)) / self.pullsNum[i])\n",
    "                estimatedValues[i] = avg_arm_value + confidence_interval\n",
    "        \n",
    "        # choose randomly between arms with max sum of avg reward and confidence interval\n",
    "        maxValue = max(estimatedValues)\n",
    "        bestArms = [i for i, value in enumerate(estimatedValues) if value == maxValue]\n",
    "        return np.random.choice(bestArms)\n",
    "        \n",
    "    def update(self, arm, reward, context=None):\n",
    "        if self.values[arm] == self.Q0:\n",
    "            self.values[arm] = reward\n",
    "        else:\n",
    "            value = (self.values[arm] * self.pullsNum[arm] + reward) / (self.pullsNum[arm] + 1)\n",
    "            self.values[arm] = value\n",
    "        self.pullsNum[arm] += 1\n",
    "        \n",
    "    "
   ]
  },
  {
   "cell_type": "code",
   "execution_count": 10,
   "metadata": {},
   "outputs": [
    {
     "data": {
      "text/plain": [
       "[0.23798591010405146,\n",
       " 0.9676724672609208,\n",
       " 0.9922745092488273,\n",
       " 0.2587785147848032,\n",
       " 0.1503146620760335,\n",
       " 0.7787391640752427,\n",
       " 0.1911878096149665,\n",
       " 0.7602783662788827,\n",
       " 0.009288577294310318,\n",
       " 0.32449256348675337]"
      ]
     },
     "execution_count": 10,
     "metadata": {},
     "output_type": "execute_result"
    }
   ],
   "source": [
    "bernoulliArms = [BernoulliArm() for i in range(10)]\n",
    "[a.p for a in bernoulliArms]"
   ]
  },
  {
   "cell_type": "code",
   "execution_count": 11,
   "metadata": {},
   "outputs": [
    {
     "name": "stdout",
     "output_type": "stream",
     "text": [
      "accumulated_rewards 1829\n",
      "[0.34615385 0.96788321 0.99405352 0.07142857 0.16666667 0.74782609\n",
      " 0.07142857 0.67532468 0.07142857 0.35714286]\n",
      "max reward possible 1984.5490184976547\n",
      "regret 155.54901849765474\n"
     ]
    }
   ],
   "source": [
    "mab = UCB(10, 2)\n",
    "accumulated_rewards = 0\n",
    "# print(epsGreedy.values)\n",
    "for i in range(0, 2000):\n",
    "    arm = mab.play(i)\n",
    "    reward = bernoulliArms[arm].pull()\n",
    "    accumulated_rewards += reward\n",
    "    mab.update(arm, reward)\n",
    "\n",
    "#     if (i % 100 == 0):\n",
    "#         print(\"-\")\n",
    "#         print(accumulated_rewards)\n",
    "#         print(epsGreedy.values)\n",
    "#         print(\"-\")\n",
    "\n",
    "print(\"accumulated_rewards \" + str(accumulated_rewards))\n",
    "print(mab.values)\n",
    "maxReward = max([b.p for b in bernoulliArms])*2000\n",
    "print(\"max reward possible \" + str(maxReward))\n",
    "print(\"regret \" + str(maxReward - accumulated_rewards))\n",
    "\n",
    "#[a.p for a in bernoulliArms]"
   ]
  },
  {
   "cell_type": "markdown",
   "metadata": {},
   "source": [
    "## 2. Off-Policy Evaluation"
   ]
  },
  {
   "cell_type": "code",
   "execution_count": 17,
   "metadata": {},
   "outputs": [],
   "source": [
    "def offlineEvaluate(mab, arms, rewards, contexts, nrounds=None):\n",
    "    \"\"\"\n",
    "    Offline evaluation of a multi-armed bandit\n",
    "    \n",
    "    Arguments\n",
    "    =========\n",
    "    mab : instance of MAB\n",
    "    \n",
    "    arms : 1D int array, shape (nevents,) \n",
    "        integer arm id for each event\n",
    "    \n",
    "    rewards : 1D float array, shape (nevents,)\n",
    "        reward received for each event\n",
    "    \n",
    "    contexts : 2D float array, shape (nevents, mab.narms*nfeatures)\n",
    "        contexts presented to the arms (stacked horizontally) \n",
    "        for each event.\n",
    "        \n",
    "    nrounds : int, optional\n",
    "        number of matching events to evaluate `mab` on.\n",
    "    \n",
    "    Returns\n",
    "    =======\n",
    "    out : 1D float array\n",
    "        rewards for the matching events\n",
    "    \"\"\"\n",
    "    round_rewards = []\n",
    "    stream_iterator = 0\n",
    "    \n",
    "    if nrounds == None:\n",
    "        return round_rewards\n",
    "    \n",
    "    for t in range(nrounds):\n",
    "        while True:\n",
    "            if stream_iterator >= len(arms):\n",
    "                print(stream_iterator)\n",
    "                return round_rewards\n",
    "            if mab.play(t) == int(arms[stream_iterator]) - 1: # -1 because the arms from data is one indexed\n",
    "                break\n",
    "            else:\n",
    "                stream_iterator += 1\n",
    "        \n",
    "        round_rewards.append(rewards[stream_iterator])\n",
    "        mab.update(int(arms[stream_iterator]) - 1, rewards[stream_iterator], contexts[stream_iterator])\n",
    "        stream_iterator += 1\n",
    "    \n",
    "    #print(stream_iterator)\n",
    "    return round_rewards\n",
    "    "
   ]
  },
  {
   "cell_type": "code",
   "execution_count": 13,
   "metadata": {},
   "outputs": [],
   "source": [
    "data = np.loadtxt(\"dataset.txt\")\n",
    "arms = data[:,0]\n",
    "rewards = data[:,1]\n",
    "contexts = data[:,2:]"
   ]
  },
  {
   "cell_type": "code",
   "execution_count": 68,
   "metadata": {},
   "outputs": [
    {
     "name": "stdout",
     "output_type": "stream",
     "text": [
      "EpsGreedy average reward 0.23\n",
      "[ 12. 523. 174.   5.   6.   5.   6.   4.  61.   4.]\n",
      "[0.         0.28871893 0.14367816 0.         0.         0.\n",
      " 0.         0.         0.13114754 0.        ]\n"
     ]
    }
   ],
   "source": [
    "mab = EpsGreedy(10, 0.05)\n",
    "results_EpsGreedy = offlineEvaluate(mab, arms, rewards, contexts, 800)\n",
    "print('EpsGreedy average reward', np.mean(results_EpsGreedy))\n",
    "print(mab.pullsNum)\n",
    "print(mab.values)"
   ]
  },
  {
   "cell_type": "code",
   "execution_count": 63,
   "metadata": {},
   "outputs": [
    {
     "name": "stdout",
     "output_type": "stream",
     "text": [
      "UCB average reward 0.16375\n"
     ]
    },
    {
     "data": {
      "text/plain": [
       "array([0.        , 0.25615764, 0.14285714, 0.025     , 0.07692308,\n",
       "       0.08928571, 0.22307692, 0.        , 0.21212121, 0.025     ])"
      ]
     },
     "execution_count": 63,
     "metadata": {},
     "output_type": "execute_result"
    }
   ],
   "source": [
    "mab = UCB(10, 1.0)\n",
    "results_UCB = offlineEvaluate(mab, arms, rewards, contexts, 800)\n",
    "print('UCB average reward', np.mean(results_UCB))"
   ]
  },
  {
   "cell_type": "markdown",
   "metadata": {},
   "source": [
    "## 3. Contextual Bandits"
   ]
  },
  {
   "cell_type": "code",
   "execution_count": 16,
   "metadata": {},
   "outputs": [
    {
     "ename": "IndentationError",
     "evalue": "expected an indented block (<ipython-input-16-0c2e2d1f0e69>, line 20)",
     "output_type": "error",
     "traceback": [
      "\u001b[0;36m  File \u001b[0;32m\"<ipython-input-16-0c2e2d1f0e69>\"\u001b[0;36m, line \u001b[0;32m20\u001b[0m\n\u001b[0;31m    def play(self, tround, context):\u001b[0m\n\u001b[0m      ^\u001b[0m\n\u001b[0;31mIndentationError\u001b[0m\u001b[0;31m:\u001b[0m expected an indented block\n"
     ]
    }
   ],
   "source": [
    "class LinUCB(MAB):\n",
    "    \"\"\"\n",
    "    Contextual multi-armed bandit (LinUCB)\n",
    "\n",
    "    Arguments\n",
    "    =========\n",
    "    narms : int\n",
    "        number of arms\n",
    "\n",
    "    ndims : int\n",
    "        number of dimensions for each arm's context\n",
    "\n",
    "    alpha : float\n",
    "        positive real explore-exploit parameter\n",
    "    \"\"\"\n",
    "    \n",
    "    def __init__(self, narms, ndims, alpha):\n",
    "        \n",
    "        \n",
    "    def play(self, tround, context):\n",
    "        \n",
    "    \n",
    "    def update(self, arm, reward, context):\n",
    "        \n",
    "    "
   ]
  },
  {
   "cell_type": "code",
   "execution_count": null,
   "metadata": {},
   "outputs": [],
   "source": [
    "mab = LinUCB(10, 10, 1.0)\n",
    "results_LinUCB = offlineEvaluate(mab, arms, rewards, contexts, 800)\n",
    "print('LinUCB average reward', np.mean(results_LinUCB))"
   ]
  },
  {
   "cell_type": "markdown",
   "metadata": {},
   "source": [
    "## 4. Evaluation\n",
    "### 4.A."
   ]
  },
  {
   "cell_type": "code",
   "execution_count": null,
   "metadata": {},
   "outputs": [],
   "source": []
  },
  {
   "cell_type": "markdown",
   "metadata": {},
   "source": [
    "### 4.B."
   ]
  },
  {
   "cell_type": "code",
   "execution_count": null,
   "metadata": {},
   "outputs": [],
   "source": []
  },
  {
   "cell_type": "markdown",
   "metadata": {},
   "source": [
    "## 5. KernelUCB"
   ]
  },
  {
   "cell_type": "code",
   "execution_count": null,
   "metadata": {},
   "outputs": [],
   "source": [
    "# Do not edit. Special import for this section.\n",
    "from sklearn.metrics.pairwise import rbf_kernel"
   ]
  },
  {
   "cell_type": "code",
   "execution_count": null,
   "metadata": {},
   "outputs": [],
   "source": [
    "class KernelUCB(MAB):\n",
    "    \"\"\"\n",
    "    Kernelised contextual multi-armed bandit (Kernelised LinUCB)\n",
    "    \n",
    "    Arguments\n",
    "    =========\n",
    "    narms : int\n",
    "        number of arms\n",
    "\n",
    "    ndims : int\n",
    "        number of dimensions for each arm's context\n",
    "\n",
    "    gamma : float\n",
    "        positive real explore-exploit parameter\n",
    "    \n",
    "    eta : float\n",
    "        positive real explore-exploit parameter\n",
    "    \n",
    "    kern : callable\n",
    "        a kernel function from sklearn.metrics.pairwise\n",
    "    \"\"\"\n",
    "    def __init__(self, narms, ndims, gamma, eta, kern):\n",
    "        \n",
    "    \n",
    "    def play(self, tround, context):\n",
    "        \n",
    "    \n",
    "    def update(self, arm, reward, context):\n",
    "        \n",
    "    "
   ]
  }
 ],
 "metadata": {
  "kernelspec": {
   "display_name": "Python 3",
   "language": "python",
   "name": "python3"
  },
  "language_info": {
   "codemirror_mode": {
    "name": "ipython",
    "version": 3
   },
   "file_extension": ".py",
   "mimetype": "text/x-python",
   "name": "python",
   "nbconvert_exporter": "python",
   "pygments_lexer": "ipython3",
   "version": "3.5.2"
  }
 },
 "nbformat": 4,
 "nbformat_minor": 2
}
