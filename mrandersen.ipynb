{
 "cells": [
  {
   "cell_type": "raw",
   "metadata": {},
   "source": [
    "# COMP90051 Project 2"
   ]
  },
  {
   "cell_type": "code",
   "execution_count": 1,
   "metadata": {},
   "outputs": [],
   "source": [
    "# Do not edit. These are the only imports permitted.\n",
    "%matplotlib inline\n",
    "import numpy as np\n",
    "from numpy.linalg import inv\n",
    "import matplotlib.pyplot as plt\n",
    "from abc import ABC, abstractmethod"
   ]
  },
  {
   "cell_type": "code",
   "execution_count": 2,
   "metadata": {},
   "outputs": [],
   "source": [
    "## 1. Implement ε-Greedy and UCB"
   ]
  },
  {
   "cell_type": "code",
   "execution_count": 3,
   "metadata": {},
   "outputs": [],
   "source": [
    "class MAB(ABC):\n",
    "    \"\"\"\n",
    "    Abstract class that represents a multi-armed bandit (MAB)\n",
    "    \"\"\"\n",
    "    \n",
    "    @abstractmethod\n",
    "    def play(self, tround, context):\n",
    "        \"\"\"\n",
    "        Play a round\n",
    "        \n",
    "        Arguments\n",
    "        =========\n",
    "        tround : int\n",
    "            positive integer identifying the round\n",
    "        \n",
    "        context : 1D float array, shape (self.ndims * self.narms), optional\n",
    "            context given to the arms\n",
    "        \n",
    "        Returns\n",
    "        =======\n",
    "        arm : int\n",
    "            the positive integer arm id for this round\n",
    "        \"\"\"\n",
    "    \n",
    "    @abstractmethod\n",
    "    def update(self, arm, reward, context):\n",
    "        \"\"\"\n",
    "        Updates the internal state of the MAB after a play\n",
    "        \n",
    "        Arguments\n",
    "        =========\n",
    "        arm : int\n",
    "            a positive integer arm id in {1, ..., self.narms}\n",
    "        \n",
    "        reward : float\n",
    "            reward received from arm\n",
    "        \n",
    "        context : 1D float array, shape (self.ndims * self.narms), optional\n",
    "            context given to arms\n",
    "        \"\"\""
   ]
  },
  {
   "cell_type": "code",
   "execution_count": 4,
   "metadata": {},
   "outputs": [],
   "source": [
    "class EpsGreedy(MAB):\n",
    "    \"\"\"\n",
    "    Epsilon-Greedy multi-armed bandit\n",
    "\n",
    "    Arguments\n",
    "    =========\n",
    "    narms : int\n",
    "        number of arms\n",
    "\n",
    "    epsilon : float\n",
    "        explore probability\n",
    "\n",
    "    Q0 : float, optional\n",
    "        initial value for the arms\n",
    "    \"\"\"\n",
    "    \n",
    "    def __init__(self, narms, epsilon, Q0=np.inf):\n",
    "        self.narms = narms\n",
    "        self.epsilon = epsilon\n",
    "        self.Q0 = Q0\n",
    "        self.pullsNum = np.zeros(narms)\n",
    "        self.values = np.full(narms, Q0)\n",
    "        \n",
    "    def play(self, tround, context=None):\n",
    "        # tround not used in this implementation of MAB\n",
    "        rand = np.random.random()\n",
    "        # if rand < epsilon, pick random arm (explore), otherwise pick best arm (exploit) (with random tiebreak)\n",
    "        if rand < self.epsilon:\n",
    "            return np.random.randint(self.narms)\n",
    "        else:\n",
    "            maxValue = max(self.values)\n",
    "            bestArms = [i for i, value in enumerate(self.values) if value == maxValue]\n",
    "            return np.random.choice(bestArms)\n",
    "        \n",
    "    def update(self, arm, reward, context=None):\n",
    "        if self.values[arm] == self.Q0:\n",
    "            self.values[arm] = reward\n",
    "        else:\n",
    "            self.values[arm] = (self.values[arm] * self.pullsNum[arm] + reward) / (self.pullsNum[arm] + 1)\n",
    "        self.pullsNum[arm] += 1\n",
    "    "
   ]
  },
  {
   "cell_type": "code",
   "execution_count": 5,
   "metadata": {},
   "outputs": [],
   "source": [
    "class UCB(MAB):\n",
    "    \"\"\"\n",
    "    Upper Confidence Bound (UCB) multi-armed bandit\n",
    "\n",
    "    Arguments\n",
    "    =========\n",
    "    narms : int\n",
    "        number of arms\n",
    "\n",
    "    rho : float\n",
    "        positive real explore-exploit parameter\n",
    "\n",
    "    Q0 : float, optional\n",
    "        initial value for the arms\n",
    "    \"\"\"\n",
    "    \n",
    "    def __init__(self, narms, rho, Q0=np.inf):\n",
    "        self.narms = narms\n",
    "        self.rho = rho\n",
    "        self.Q0 = Q0\n",
    "        self.pullsNum = np.zeros(narms)\n",
    "        self.values = np.full(narms, Q0)\n",
    "    \n",
    "    def play(self, tround, context=None):\n",
    "        # compute the sum of average reward and confidence interval for each arm\n",
    "        estimatedValues = [0] * self.narms\n",
    "        for i in range(self.narms):\n",
    "            avg_arm_value = self.values[i]\n",
    "            if avg_arm_value == self.Q0:\n",
    "                estimatedValues[i] = self.Q0\n",
    "            else:\n",
    "                confidence_interval = np.sqrt((self.rho * np.log(tround)) / self.pullsNum[i])\n",
    "                estimatedValues[i] = avg_arm_value + confidence_interval\n",
    "        \n",
    "        # choose randomly between arms with max sum of avg reward and confidence interval\n",
    "        maxValue = max(estimatedValues)\n",
    "        bestArms = [i for i, value in enumerate(estimatedValues) if value == maxValue]\n",
    "        return np.random.choice(bestArms)\n",
    "        \n",
    "    def update(self, arm, reward, context=None):\n",
    "        if self.values[arm] == self.Q0:\n",
    "            self.values[arm] = reward\n",
    "        else:\n",
    "            self.values[arm] = (self.values[arm] * self.pullsNum[arm] + reward) / (self.pullsNum[arm] + 1)\n",
    "        self.pullsNum[arm] += 1\n",
    "        \n",
    "    "
   ]
  },
  {
   "cell_type": "markdown",
   "metadata": {},
   "source": [
    "## 2. Off-Policy Evaluation"
   ]
  },
  {
   "cell_type": "code",
   "execution_count": 6,
   "metadata": {},
   "outputs": [],
   "source": [
    "def offlineEvaluate(mab, arms, rewards, contexts, nrounds=None):\n",
    "    \"\"\"\n",
    "    Offline evaluation of a multi-armed bandit\n",
    "    \n",
    "    Arguments\n",
    "    =========\n",
    "    mab : instance of MAB\n",
    "    \n",
    "    arms : 1D int array, shape (nevents,) \n",
    "        integer arm id for each event\n",
    "    \n",
    "    rewards : 1D float array, shape (nevents,)\n",
    "        reward received for each event\n",
    "    \n",
    "    contexts : 2D float array, shape (nevents, mab.narms*nfeatures)\n",
    "        contexts presented to the arms (stacked horizontally) \n",
    "        for each event.\n",
    "        \n",
    "    nrounds : int, optional\n",
    "        number of matching events to evaluate `mab` on.\n",
    "    \n",
    "    Returns\n",
    "    =======\n",
    "    out : 1D float array\n",
    "        rewards for the matching events\n",
    "    \"\"\"\n",
    "    round_rewards = []\n",
    "    stream_iterator = 0\n",
    "    \n",
    "    # If nrounds is None, play until stream_iterator is done\n",
    "    if nrounds == None:\n",
    "        nrounds = len(arms)\n",
    "    \n",
    "    for t in range(nrounds):\n",
    "        # while incrementing stream_iterator, play until arm match between data events and mab is found\n",
    "        while True:\n",
    "            if stream_iterator >= len(arms):\n",
    "                return round_rewards\n",
    "            if mab.play(t, contexts[stream_iterator]) == int(arms[stream_iterator]) - 1: # -1 because the arms from data is one indexed\n",
    "                break\n",
    "            else:\n",
    "                stream_iterator += 1\n",
    "        \n",
    "        # when match is found, update mab\n",
    "        round_rewards.append(rewards[stream_iterator])\n",
    "        mab.update(int(arms[stream_iterator]) - 1, rewards[stream_iterator], contexts[stream_iterator])\n",
    "        stream_iterator += 1\n",
    "    \n",
    "    return round_rewards\n",
    "    "
   ]
  },
  {
   "cell_type": "code",
   "execution_count": 7,
   "metadata": {},
   "outputs": [],
   "source": [
    "data = np.loadtxt(\"dataset.txt\")\n",
    "arms = data[:,0]\n",
    "rewards = data[:,1]\n",
    "contexts = data[:,2:]"
   ]
  },
  {
   "cell_type": "code",
   "execution_count": 8,
   "metadata": {},
   "outputs": [
    {
     "name": "stdout",
     "output_type": "stream",
     "text": [
      "EpsGreedy average reward 0.2625\n"
     ]
    }
   ],
   "source": [
    "mab = EpsGreedy(10, 0.05)\n",
    "results_EpsGreedy = offlineEvaluate(mab, arms, rewards, contexts, 800)\n",
    "print('EpsGreedy average reward', np.mean(results_EpsGreedy))"
   ]
  },
  {
   "cell_type": "code",
   "execution_count": 9,
   "metadata": {},
   "outputs": [
    {
     "name": "stdout",
     "output_type": "stream",
     "text": [
      "UCB average reward 0.14\n"
     ]
    }
   ],
   "source": [
    "mab = UCB(10, 1.0)\n",
    "results_UCB = offlineEvaluate(mab, arms, rewards, contexts, 800)\n",
    "print('UCB average reward', np.mean(results_UCB))"
   ]
  },
  {
   "cell_type": "markdown",
   "metadata": {},
   "source": [
    "## 3. Contextual Bandits"
   ]
  },
  {
   "cell_type": "code",
   "execution_count": 10,
   "metadata": {},
   "outputs": [],
   "source": [
    "class LinUCB(MAB):\n",
    "    \"\"\"\n",
    "    Contextual multi-armed bandit (LinUCB)\n",
    "\n",
    "    Arguments\n",
    "    =========\n",
    "    narms : int\n",
    "        number of arms\n",
    "\n",
    "    ndims : int\n",
    "        number of dimensions for each arm's context\n",
    "\n",
    "    alpha : float\n",
    "        positive real explore-exploit parameter\n",
    "    \"\"\"\n",
    "    \n",
    "    def __init__(self, narms, ndims, alpha):\n",
    "        self.narms = narms\n",
    "        self.ndims = ndims\n",
    "        self.alpha = alpha\n",
    "        \n",
    "        self.A = [np.identity(ndims)] * narms\n",
    "        self.b = [np.zeros(ndims)] * narms\n",
    "        \n",
    "    def play(self, tround, context):\n",
    "        # calculate the expexted payoff for each arm\n",
    "        expectecPayoffs = [0] * self.narms\n",
    "        for i in range(self.narms):\n",
    "            x = self.getArmContext(i, context) # features for arm\n",
    "            theta_hat = np.linalg.inv(self.A[i]) @ self.b[i]\n",
    "            expectecPayoffs[i] = (x.T @ theta_hat) + self.alpha * np.sqrt(x.T @ np.linalg.inv(self.A[i]) @ x)\n",
    "        \n",
    "        # return the arm with most expected payoff (with random tiebreak)\n",
    "        return np.random.choice([i for i, expo in enumerate(expectecPayoffs) if expo == max(expectecPayoffs)])\n",
    "    \n",
    "    def update(self, arm, reward, context):\n",
    "        x = self.getArmContext(arm, context)\n",
    "        self.A[arm] = self.A[arm] + x @ x.T\n",
    "        self.b[arm] = self.b[arm] + reward * x\n",
    "\n",
    "    def getArmContext(self, arm, context):\n",
    "        return context[arm * self.ndims : arm * self.ndims + self.ndims]"
   ]
  },
  {
   "cell_type": "code",
   "execution_count": 11,
   "metadata": {},
   "outputs": [
    {
     "name": "stdout",
     "output_type": "stream",
     "text": [
      "LinUCB average reward 0.2675\n"
     ]
    }
   ],
   "source": [
    "mab = LinUCB(10, 10, 1.0)\n",
    "results_LinUCB = offlineEvaluate(mab, arms, rewards, contexts, 800)\n",
    "print('LinUCB average reward', np.mean(results_LinUCB))"
   ]
  },
  {
   "cell_type": "markdown",
   "metadata": {},
   "source": [
    "## 4. Evaluation\n",
    "### 4.A."
   ]
  },
  {
   "cell_type": "code",
   "execution_count": 12,
   "metadata": {
    "scrolled": true
   },
   "outputs": [
    {
     "data": {
      "image/png": "[encoded data removed]",
      "text/plain": [
       "<Figure size 432x288 with 1 Axes>"
      ]
     },
     "metadata": {},
     "output_type": "display_data"
    }
   ],
   "source": [
    "# Plot the running cumulative rewards of each MAB run offline\n",
    "running_cum_reward_EpsGreedy = [0] * len(results_EpsGreedy)\n",
    "running_cum_reward_UCB = [0] * len(results_UCB)\n",
    "running_cum_reward_LinUCB = [0] * len(results_LinUCB)\n",
    "for i in range(len(results_EpsGreedy)): # assumes all were run for same amount of rounds\n",
    "    running_cum_reward_EpsGreedy[i] = sum(results_EpsGreedy[:i])\n",
    "    running_cum_reward_UCB[i] = sum(results_UCB[:i])\n",
    "    running_cum_reward_LinUCB[i] = sum(results_LinUCB[:i])\n",
    "\n",
    "plt.plot(running_cum_reward_EpsGreedy, \"r\", label=\"EpsGreedy\")\n",
    "plt.plot(running_cum_reward_UCB, \"b\", label=\"UCB\")\n",
    "plt.plot(running_cum_reward_LinUCB, \"g\", label=\"LinUCB\")\n",
    "plt.xlabel(\"Rounds\")\n",
    "plt.ylabel(\"Cummulative reward\")\n",
    "plt.legend(loc='best')\n",
    "plt.show()"
   ]
  },
  {
   "cell_type": "code",
   "execution_count": null,
   "metadata": {},
   "outputs": [],
   "source": []
  },
  {
   "cell_type": "markdown",
   "metadata": {},
   "source": [
    "### 4.B."
   ]
  },
  {
   "cell_type": "code",
   "execution_count": null,
   "metadata": {},
   "outputs": [],
   "source": []
  },
  {
   "cell_type": "markdown",
   "metadata": {},
   "source": [
    "## 5. KernelUCB"
   ]
  },
  {
   "cell_type": "code",
   "execution_count": 13,
   "metadata": {},
   "outputs": [],
   "source": [
    "# Do not edit. Special import for this section.\n",
    "from sklearn.metrics.pairwise import rbf_kernel"
   ]
  },
  {
   "cell_type": "code",
   "execution_count": 14,
   "metadata": {},
   "outputs": [
    {
     "ename": "IndentationError",
     "evalue": "expected an indented block (<ipython-input-14-8163fcb89ddf>, line 25)",
     "output_type": "error",
     "traceback": [
      "\u001b[0;36m  File \u001b[0;32m\"<ipython-input-14-8163fcb89ddf>\"\u001b[0;36m, line \u001b[0;32m25\u001b[0m\n\u001b[0;31m    def play(self, tround, context):\u001b[0m\n\u001b[0m      ^\u001b[0m\n\u001b[0;31mIndentationError\u001b[0m\u001b[0;31m:\u001b[0m expected an indented block\n"
     ]
    }
   ],
   "source": [
    "class KernelUCB(MAB):\n",
    "    \"\"\"\n",
    "    Kernelised contextual multi-armed bandit (Kernelised LinUCB)\n",
    "    \n",
    "    Arguments\n",
    "    =========\n",
    "    narms : int\n",
    "        number of arms\n",
    "\n",
    "    ndims : int\n",
    "        number of dimensions for each arm's context\n",
    "\n",
    "    gamma : float\n",
    "        positive real explore-exploit parameter\n",
    "    \n",
    "    eta : float\n",
    "        positive real explore-exploit parameter\n",
    "    \n",
    "    kern : callable\n",
    "        a kernel function from sklearn.metrics.pairwise\n",
    "    \"\"\"\n",
    "    def __init__(self, narms, ndims, gamma, eta, kern):\n",
    "        \n",
    "    \n",
    "    def play(self, tround, context):\n",
    "        \n",
    "    \n",
    "    def update(self, arm, reward, context):\n",
    "        \n",
    "    "
   ]
  }
 ],
 "metadata": {
  "kernelspec": {
   "display_name": "Python 3",
   "language": "python",
   "name": "python3"
  },
  "language_info": {
   "codemirror_mode": {
    "name": "ipython",
    "version": 3
   },
   "file_extension": ".py",
   "mimetype": "text/x-python",
   "name": "python",
   "nbconvert_exporter": "python",
   "pygments_lexer": "ipython3",
   "version": "3.5.2"
  }
 },
 "nbformat": 4,
 "nbformat_minor": 2
}
